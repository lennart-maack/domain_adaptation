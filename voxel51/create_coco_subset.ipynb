{
 "cells": [
  {
   "cell_type": "code",
   "execution_count": null,
   "metadata": {},
   "outputs": [],
   "source": [
    "import fiftyone as fo\n",
    "import fiftyone.zoo as foz\n",
    "\n",
    "import fiftyone as fo\n",
    "import fiftyone.zoo as foz\n",
    "\n",
    "#\n",
    "# Load 50 random samples from the validation split\n",
    "#\n",
    "# Only the required images will be downloaded (if necessary).\n",
    "# By default, only detections are loaded\n",
    "#\n",
    "\n",
    "dataset = foz.load_zoo_dataset(\n",
    "    \"coco-2017\",\n",
    "    splits = [\"train\"],\n",
    "    label_types = [\"segmentations\"],\n",
    "    only_matching=True,\n",
    "    classes =\"dog\",\n",
    "    max_samples=500,\n",
    "    shuffle=True,\n",
    ")"
   ]
  },
  {
   "cell_type": "code",
   "execution_count": null,
   "metadata": {},
   "outputs": [],
   "source": [
    "dataset.export(\n",
    "    dataset_type=fo.types.ImageSegmentationDirectory,\n",
    "    data_path=\"G:\\My Drive\\Master_Thesis\\Github\\cocosubset\\images\",\n",
    "    labels_path=\"G:\\My Drive\\Master_Thesis\\Github\\cocosubset\\labels\",\n",
    "    label_field=\"ground_truth\",\n",
    "    abs_paths=True\n",
    ")"
   ]
  }
 ],
 "metadata": {
  "kernelspec": {
   "display_name": "Python 3.10.4 64-bit",
   "language": "python",
   "name": "python3"
  },
  "language_info": {
   "name": "python",
   "version": "3.10.4"
  },
  "orig_nbformat": 4,
  "vscode": {
   "interpreter": {
    "hash": "369f2c481f4da34e4445cda3fffd2e751bd1c4d706f27375911949ba6bb62e1c"
   }
  }
 },
 "nbformat": 4,
 "nbformat_minor": 2
}
